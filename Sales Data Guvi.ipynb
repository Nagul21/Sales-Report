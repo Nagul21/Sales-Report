{
 "cells": [
  {
   "cell_type": "code",
   "execution_count": 1,
   "id": "f616e3a1",
   "metadata": {},
   "outputs": [],
   "source": [
    "import pandas as pd\n",
    "import seaborn as sns\n",
    "import matplotlib.pyplot as plt\n",
    "from warnings import filterwarnings\n",
    "filterwarnings(\"ignore\")\n",
    "plt.rcParams[\"figure.figsize\"]=[10,5]"
   ]
  },
  {
   "cell_type": "code",
   "execution_count": 2,
   "id": "d65ef49a",
   "metadata": {},
   "outputs": [
    {
     "data": {
      "text/html": [
       "<div>\n",
       "<style scoped>\n",
       "    .dataframe tbody tr th:only-of-type {\n",
       "        vertical-align: middle;\n",
       "    }\n",
       "\n",
       "    .dataframe tbody tr th {\n",
       "        vertical-align: top;\n",
       "    }\n",
       "\n",
       "    .dataframe thead th {\n",
       "        text-align: right;\n",
       "    }\n",
       "</style>\n",
       "<table border=\"1\" class=\"dataframe\">\n",
       "  <thead>\n",
       "    <tr style=\"text-align: right;\">\n",
       "      <th></th>\n",
       "      <th>User ID</th>\n",
       "      <th>Product Code</th>\n",
       "      <th>Payment Status</th>\n",
       "      <th>Coupon code</th>\n",
       "      <th>Lead Registered Time</th>\n",
       "      <th>Sales Date</th>\n",
       "      <th>Source</th>\n",
       "      <th>Product Amount with GST</th>\n",
       "      <th>Payment Mode</th>\n",
       "      <th>Currency  Code</th>\n",
       "      <th>Transaction Bank</th>\n",
       "    </tr>\n",
       "  </thead>\n",
       "  <tbody>\n",
       "    <tr>\n",
       "      <th>0</th>\n",
       "      <td>user1</td>\n",
       "      <td>Product1</td>\n",
       "      <td>Initiated</td>\n",
       "      <td>NaN</td>\n",
       "      <td>2022-08-01 04:55:00</td>\n",
       "      <td>2022-07-31</td>\n",
       "      <td>Direct</td>\n",
       "      <td>3999.0</td>\n",
       "      <td>NaN</td>\n",
       "      <td>INR</td>\n",
       "      <td>NaN</td>\n",
       "    </tr>\n",
       "    <tr>\n",
       "      <th>1</th>\n",
       "      <td>user2</td>\n",
       "      <td>Product2</td>\n",
       "      <td>Initiated</td>\n",
       "      <td>NaN</td>\n",
       "      <td>2022-08-01 04:46:00</td>\n",
       "      <td>2022-07-31</td>\n",
       "      <td>Direct</td>\n",
       "      <td>999.0</td>\n",
       "      <td>NaN</td>\n",
       "      <td>INR</td>\n",
       "      <td>NaN</td>\n",
       "    </tr>\n",
       "    <tr>\n",
       "      <th>2</th>\n",
       "      <td>user4</td>\n",
       "      <td>Product3</td>\n",
       "      <td>Initiated</td>\n",
       "      <td>NaN</td>\n",
       "      <td>2022-08-01 03:21:00</td>\n",
       "      <td>2022-07-31</td>\n",
       "      <td>Direct</td>\n",
       "      <td>1999.0</td>\n",
       "      <td>NaN</td>\n",
       "      <td>INR</td>\n",
       "      <td>NaN</td>\n",
       "    </tr>\n",
       "    <tr>\n",
       "      <th>3</th>\n",
       "      <td>user6</td>\n",
       "      <td>Product3</td>\n",
       "      <td>Initiated</td>\n",
       "      <td>NaN</td>\n",
       "      <td>2022-08-01 00:56:00</td>\n",
       "      <td>2022-07-31</td>\n",
       "      <td>Direct</td>\n",
       "      <td>1999.0</td>\n",
       "      <td>NaN</td>\n",
       "      <td>INR</td>\n",
       "      <td>NaN</td>\n",
       "    </tr>\n",
       "    <tr>\n",
       "      <th>4</th>\n",
       "      <td>user8</td>\n",
       "      <td>Product4</td>\n",
       "      <td>Initiated</td>\n",
       "      <td>NaN</td>\n",
       "      <td>2022-08-01 00:46:00</td>\n",
       "      <td>2022-07-31</td>\n",
       "      <td>Direct</td>\n",
       "      <td>2022.0</td>\n",
       "      <td>NaN</td>\n",
       "      <td>INR</td>\n",
       "      <td>NaN</td>\n",
       "    </tr>\n",
       "  </tbody>\n",
       "</table>\n",
       "</div>"
      ],
      "text/plain": [
       "  User ID Product Code Payment Status Coupon code Lead Registered Time  \\\n",
       "0   user1     Product1      Initiated         NaN  2022-08-01 04:55:00   \n",
       "1   user2     Product2      Initiated         NaN  2022-08-01 04:46:00   \n",
       "2   user4     Product3      Initiated         NaN  2022-08-01 03:21:00   \n",
       "3   user6     Product3      Initiated         NaN  2022-08-01 00:56:00   \n",
       "4   user8     Product4      Initiated         NaN  2022-08-01 00:46:00   \n",
       "\n",
       "  Sales Date  Source  Product Amount with GST Payment Mode Currency  Code  \\\n",
       "0 2022-07-31  Direct                   3999.0          NaN            INR   \n",
       "1 2022-07-31  Direct                    999.0          NaN            INR   \n",
       "2 2022-07-31  Direct                   1999.0          NaN            INR   \n",
       "3 2022-07-31  Direct                   1999.0          NaN            INR   \n",
       "4 2022-07-31  Direct                   2022.0          NaN            INR   \n",
       "\n",
       "  Transaction Bank  \n",
       "0              NaN  \n",
       "1              NaN  \n",
       "2              NaN  \n",
       "3              NaN  \n",
       "4              NaN  "
      ]
     },
     "execution_count": 2,
     "metadata": {},
     "output_type": "execute_result"
    }
   ],
   "source": [
    "sales_report = pd.read_excel('C:/Users/User/sales report.xlsx')\n",
    "sales_report.head()"
   ]
  },
  {
   "cell_type": "code",
   "execution_count": 3,
   "id": "22d90706",
   "metadata": {},
   "outputs": [
    {
     "name": "stdout",
     "output_type": "stream",
     "text": [
      "<class 'pandas.core.frame.DataFrame'>\n",
      "RangeIndex: 9514 entries, 0 to 9513\n",
      "Data columns (total 11 columns):\n",
      " #   Column                   Non-Null Count  Dtype         \n",
      "---  ------                   --------------  -----         \n",
      " 0   User ID                  9514 non-null   object        \n",
      " 1   Product Code             9514 non-null   object        \n",
      " 2   Payment Status           9514 non-null   object        \n",
      " 3   Coupon code              662 non-null    object        \n",
      " 4   Lead Registered Time     9514 non-null   datetime64[ns]\n",
      " 5   Sales Date               9514 non-null   datetime64[ns]\n",
      " 6   Source                   9514 non-null   object        \n",
      " 7   Product Amount with GST  9513 non-null   float64       \n",
      " 8   Payment Mode             1730 non-null   object        \n",
      " 9   Currency  Code           9514 non-null   object        \n",
      " 10  Transaction Bank         92 non-null     object        \n",
      "dtypes: datetime64[ns](2), float64(1), object(8)\n",
      "memory usage: 817.7+ KB\n"
     ]
    }
   ],
   "source": [
    "sales_report.info()"
   ]
  },
  {
   "cell_type": "code",
   "execution_count": 4,
   "id": "828c39d3",
   "metadata": {},
   "outputs": [
    {
     "data": {
      "text/plain": [
       "(9514, 11)"
      ]
     },
     "execution_count": 4,
     "metadata": {},
     "output_type": "execute_result"
    }
   ],
   "source": [
    "sales_report.shape"
   ]
  },
  {
   "cell_type": "code",
   "execution_count": 5,
   "id": "0bcd686d",
   "metadata": {},
   "outputs": [
    {
     "data": {
      "text/plain": [
       "User ID                       0\n",
       "Product Code                  0\n",
       "Payment Status                0\n",
       "Coupon code                8852\n",
       "Lead Registered Time          0\n",
       "Sales Date                    0\n",
       "Source                        0\n",
       "Product Amount with GST       1\n",
       "Payment Mode               7784\n",
       "Currency  Code                0\n",
       "Transaction Bank           9422\n",
       "dtype: int64"
      ]
     },
     "execution_count": 5,
     "metadata": {},
     "output_type": "execute_result"
    }
   ],
   "source": [
    "sales_report.isnull().sum()"
   ]
  },
  {
   "cell_type": "markdown",
   "id": "1567a104",
   "metadata": {},
   "source": [
    "#  The report consists of many null values in 3 columns so we droping those columns so that we can get better accuracy"
   ]
  },
  {
   "cell_type": "code",
   "execution_count": 6,
   "id": "7a67f605",
   "metadata": {},
   "outputs": [],
   "source": [
    "sales_report.drop(['Transaction Bank','Payment Mode','Coupon code'],axis = 1,inplace = True)"
   ]
  },
  {
   "cell_type": "code",
   "execution_count": 7,
   "id": "1adf5f29",
   "metadata": {},
   "outputs": [],
   "source": [
    "sales_report = sales_report.dropna()"
   ]
  },
  {
   "cell_type": "code",
   "execution_count": 8,
   "id": "59ad1c01",
   "metadata": {},
   "outputs": [
    {
     "name": "stdout",
     "output_type": "stream",
     "text": [
      "<class 'pandas.core.frame.DataFrame'>\n",
      "Int64Index: 9513 entries, 0 to 9513\n",
      "Data columns (total 8 columns):\n",
      " #   Column                   Non-Null Count  Dtype         \n",
      "---  ------                   --------------  -----         \n",
      " 0   User ID                  9513 non-null   object        \n",
      " 1   Product Code             9513 non-null   object        \n",
      " 2   Payment Status           9513 non-null   object        \n",
      " 3   Lead Registered Time     9513 non-null   datetime64[ns]\n",
      " 4   Sales Date               9513 non-null   datetime64[ns]\n",
      " 5   Source                   9513 non-null   object        \n",
      " 6   Product Amount with GST  9513 non-null   float64       \n",
      " 7   Currency  Code           9513 non-null   object        \n",
      "dtypes: datetime64[ns](2), float64(1), object(5)\n",
      "memory usage: 668.9+ KB\n"
     ]
    }
   ],
   "source": [
    "sales_report.info()"
   ]
  },
  {
   "cell_type": "code",
   "execution_count": 9,
   "id": "77a33503",
   "metadata": {},
   "outputs": [
    {
     "data": {
      "text/plain": [
       "Index(['User ID', 'Product Code', 'Payment Status', 'Lead Registered Time',\n",
       "       'Sales Date', 'Source', 'Product Amount with GST', 'Currency  Code'],\n",
       "      dtype='object')"
      ]
     },
     "execution_count": 9,
     "metadata": {},
     "output_type": "execute_result"
    }
   ],
   "source": [
    "sales_report.columns"
   ]
  },
  {
   "cell_type": "code",
   "execution_count": 10,
   "id": "54e75081",
   "metadata": {},
   "outputs": [],
   "source": [
    "sales_report1 = sales_report.copy(deep = True)"
   ]
  },
  {
   "cell_type": "code",
   "execution_count": 11,
   "id": "33afceba",
   "metadata": {},
   "outputs": [
    {
     "data": {
      "text/html": [
       "<div>\n",
       "<style scoped>\n",
       "    .dataframe tbody tr th:only-of-type {\n",
       "        vertical-align: middle;\n",
       "    }\n",
       "\n",
       "    .dataframe tbody tr th {\n",
       "        vertical-align: top;\n",
       "    }\n",
       "\n",
       "    .dataframe thead th {\n",
       "        text-align: right;\n",
       "    }\n",
       "</style>\n",
       "<table border=\"1\" class=\"dataframe\">\n",
       "  <thead>\n",
       "    <tr style=\"text-align: right;\">\n",
       "      <th></th>\n",
       "      <th>User ID</th>\n",
       "      <th>Product Code</th>\n",
       "      <th>Payment Status</th>\n",
       "      <th>Lead Registered Time</th>\n",
       "      <th>Sales Date</th>\n",
       "      <th>Source</th>\n",
       "      <th>Product Amount with GST</th>\n",
       "      <th>Currency  Code</th>\n",
       "    </tr>\n",
       "  </thead>\n",
       "  <tbody>\n",
       "    <tr>\n",
       "      <th>0</th>\n",
       "      <td>user1</td>\n",
       "      <td>Product1</td>\n",
       "      <td>Initiated</td>\n",
       "      <td>2022-08-01 04:55:00</td>\n",
       "      <td>2022-07-31</td>\n",
       "      <td>Direct</td>\n",
       "      <td>3999.0</td>\n",
       "      <td>INR</td>\n",
       "    </tr>\n",
       "    <tr>\n",
       "      <th>1</th>\n",
       "      <td>user2</td>\n",
       "      <td>Product2</td>\n",
       "      <td>Initiated</td>\n",
       "      <td>2022-08-01 04:46:00</td>\n",
       "      <td>2022-07-31</td>\n",
       "      <td>Direct</td>\n",
       "      <td>999.0</td>\n",
       "      <td>INR</td>\n",
       "    </tr>\n",
       "    <tr>\n",
       "      <th>2</th>\n",
       "      <td>user4</td>\n",
       "      <td>Product3</td>\n",
       "      <td>Initiated</td>\n",
       "      <td>2022-08-01 03:21:00</td>\n",
       "      <td>2022-07-31</td>\n",
       "      <td>Direct</td>\n",
       "      <td>1999.0</td>\n",
       "      <td>INR</td>\n",
       "    </tr>\n",
       "    <tr>\n",
       "      <th>3</th>\n",
       "      <td>user6</td>\n",
       "      <td>Product3</td>\n",
       "      <td>Initiated</td>\n",
       "      <td>2022-08-01 00:56:00</td>\n",
       "      <td>2022-07-31</td>\n",
       "      <td>Direct</td>\n",
       "      <td>1999.0</td>\n",
       "      <td>INR</td>\n",
       "    </tr>\n",
       "    <tr>\n",
       "      <th>4</th>\n",
       "      <td>user8</td>\n",
       "      <td>Product4</td>\n",
       "      <td>Initiated</td>\n",
       "      <td>2022-08-01 00:46:00</td>\n",
       "      <td>2022-07-31</td>\n",
       "      <td>Direct</td>\n",
       "      <td>2022.0</td>\n",
       "      <td>INR</td>\n",
       "    </tr>\n",
       "  </tbody>\n",
       "</table>\n",
       "</div>"
      ],
      "text/plain": [
       "  User ID Product Code Payment Status Lead Registered Time Sales Date  Source  \\\n",
       "0   user1     Product1      Initiated  2022-08-01 04:55:00 2022-07-31  Direct   \n",
       "1   user2     Product2      Initiated  2022-08-01 04:46:00 2022-07-31  Direct   \n",
       "2   user4     Product3      Initiated  2022-08-01 03:21:00 2022-07-31  Direct   \n",
       "3   user6     Product3      Initiated  2022-08-01 00:56:00 2022-07-31  Direct   \n",
       "4   user8     Product4      Initiated  2022-08-01 00:46:00 2022-07-31  Direct   \n",
       "\n",
       "   Product Amount with GST Currency  Code  \n",
       "0                   3999.0            INR  \n",
       "1                    999.0            INR  \n",
       "2                   1999.0            INR  \n",
       "3                   1999.0            INR  \n",
       "4                   2022.0            INR  "
      ]
     },
     "execution_count": 11,
     "metadata": {},
     "output_type": "execute_result"
    }
   ],
   "source": [
    "sales_report1.head()"
   ]
  },
  {
   "cell_type": "code",
   "execution_count": 12,
   "id": "806b692e",
   "metadata": {},
   "outputs": [
    {
     "data": {
      "text/plain": [
       "(9513,)"
      ]
     },
     "execution_count": 12,
     "metadata": {},
     "output_type": "execute_result"
    }
   ],
   "source": [
    "sales_report1['User ID'].shape"
   ]
  },
  {
   "cell_type": "markdown",
   "id": "daee87eb",
   "metadata": {},
   "source": [
    "# Removing Duplicate Values from the  Columns"
   ]
  },
  {
   "cell_type": "code",
   "execution_count": 13,
   "id": "0cde1aa4",
   "metadata": {},
   "outputs": [],
   "source": [
    "sales_report1.drop_duplicates(subset = 'User ID' , keep = 'first' ,inplace = True)"
   ]
  },
  {
   "cell_type": "code",
   "execution_count": 14,
   "id": "361c43c0",
   "metadata": {},
   "outputs": [
    {
     "data": {
      "text/plain": [
       "(5884,)"
      ]
     },
     "execution_count": 14,
     "metadata": {},
     "output_type": "execute_result"
    }
   ],
   "source": [
    "sales_report1['User ID'].shape"
   ]
  },
  {
   "cell_type": "markdown",
   "id": "b08ff75e",
   "metadata": {},
   "source": [
    "# Data Visulization"
   ]
  },
  {
   "cell_type": "markdown",
   "id": "090dd193",
   "metadata": {},
   "source": [
    "# Here We can clearly able to see that the payment was initiated nearly 70% and  28%  was paid and 2% got refund\n"
   ]
  },
  {
   "cell_type": "code",
   "execution_count": 15,
   "id": "f168e6c0",
   "metadata": {
    "scrolled": false
   },
   "outputs": [
    {
     "data": {
      "text/plain": [
       "<AxesSubplot:xlabel='Payment Status', ylabel='count'>"
      ]
     },
     "execution_count": 15,
     "metadata": {},
     "output_type": "execute_result"
    },
    {
     "data": {
      "image/png": "[encoded data removed]",
      "text/plain": [
       "<Figure size 1000x500 with 1 Axes>"
      ]
     },
     "metadata": {},
     "output_type": "display_data"
    }
   ],
   "source": [
    "sns.countplot(sales_report1['Payment Status'])"
   ]
  },
  {
   "cell_type": "markdown",
   "id": "f1769458",
   "metadata": {},
   "source": [
    "# Here We can see that maximum payment was done by the currency of 85% of INR and 15% of USD"
   ]
  },
  {
   "cell_type": "code",
   "execution_count": 16,
   "id": "4a55196a",
   "metadata": {},
   "outputs": [
    {
     "data": {
      "text/plain": [
       "<AxesSubplot:xlabel='Currency  Code', ylabel='count'>"
      ]
     },
     "execution_count": 16,
     "metadata": {},
     "output_type": "execute_result"
    },
    {
     "data": {
      "image/png": "[encoded data removed]",
      "text/plain": [
       "<Figure size 1000x500 with 1 Axes>"
      ]
     },
     "metadata": {},
     "output_type": "display_data"
    }
   ],
   "source": [
    "sns.countplot(sales_report1['Currency  Code'])"
   ]
  },
  {
   "cell_type": "code",
   "execution_count": 17,
   "id": "2a757806",
   "metadata": {
    "scrolled": true
   },
   "outputs": [
    {
     "data": {
      "text/plain": [
       "array(['Direct', 'Influencer', 'Email', 'Paid'], dtype=object)"
      ]
     },
     "execution_count": 17,
     "metadata": {},
     "output_type": "execute_result"
    }
   ],
   "source": [
    "sales_report1['Source'].unique()"
   ]
  },
  {
   "cell_type": "code",
   "execution_count": 18,
   "id": "f76ccc8b",
   "metadata": {
    "scrolled": false
   },
   "outputs": [
    {
     "data": {
      "text/plain": [
       "<AxesSubplot:xlabel='Source', ylabel='count'>"
      ]
     },
     "execution_count": 18,
     "metadata": {},
     "output_type": "execute_result"
    },
    {
     "data": {
      "image/png": "[encoded data removed]",
      "text/plain": [
       "<Figure size 1000x500 with 1 Axes>"
      ]
     },
     "metadata": {},
     "output_type": "display_data"
    }
   ],
   "source": [
    "sns.countplot(sales_report1['Source'])"
   ]
  },
  {
   "cell_type": "markdown",
   "id": "679be5a1",
   "metadata": {},
   "source": [
    " Lets test our datas using ML model and see how our models performs"
   ]
  },
  {
   "cell_type": "code",
   "execution_count": 19,
   "id": "9a58ab81",
   "metadata": {},
   "outputs": [
    {
     "data": {
      "text/plain": [
       "0    4314\n",
       "1    1058\n",
       "2     333\n",
       "3     179\n",
       "Name: Source, dtype: int64"
      ]
     },
     "execution_count": 19,
     "metadata": {},
     "output_type": "execute_result"
    }
   ],
   "source": [
    "#Here I am replacing the values string to numeric for model testing\n",
    "sales_report1['Source'].replace({'Direct':0,'Influencer':1,'Email':2,'Paid':3},inplace = True)\n",
    "\n",
    "sales_report1['Source'].value_counts()"
   ]
  },
  {
   "cell_type": "code",
   "execution_count": 20,
   "id": "45a87fa4",
   "metadata": {},
   "outputs": [
    {
     "data": {
      "text/plain": [
       "0    5560\n",
       "1     324\n",
       "Name: Currency  Code, dtype: int64"
      ]
     },
     "execution_count": 20,
     "metadata": {},
     "output_type": "execute_result"
    }
   ],
   "source": [
    "sales_report1['Currency  Code'].replace({'INR':0,'USD':1},inplace = True)\n",
    "\n",
    "sales_report1['Currency  Code'].value_counts()"
   ]
  },
  {
   "cell_type": "code",
   "execution_count": 22,
   "id": "94cb7a3c",
   "metadata": {},
   "outputs": [],
   "source": [
    "import sklearn\n",
    "from sklearn.model_selection import train_test_split"
   ]
  },
  {
   "cell_type": "code",
   "execution_count": 23,
   "id": "a23b4eac",
   "metadata": {},
   "outputs": [],
   "source": [
    "x = sales_report1.drop(['Lead Registered Time','Sales Date','Payment Status','User ID','Product Code'],axis = 1)\n",
    "\n",
    "y = sales_report1['Payment Status']\n",
    "\n",
    "x_train,x_test,y_train,y_test = train_test_split(x,y,test_size = 0.3,random_state=2)"
   ]
  },
  {
   "cell_type": "code",
   "execution_count": 24,
   "id": "43cfdc62",
   "metadata": {},
   "outputs": [
    {
     "data": {
      "text/html": [
       "<div>\n",
       "<style scoped>\n",
       "    .dataframe tbody tr th:only-of-type {\n",
       "        vertical-align: middle;\n",
       "    }\n",
       "\n",
       "    .dataframe tbody tr th {\n",
       "        vertical-align: top;\n",
       "    }\n",
       "\n",
       "    .dataframe thead th {\n",
       "        text-align: right;\n",
       "    }\n",
       "</style>\n",
       "<table border=\"1\" class=\"dataframe\">\n",
       "  <thead>\n",
       "    <tr style=\"text-align: right;\">\n",
       "      <th></th>\n",
       "      <th>Source</th>\n",
       "      <th>Product Amount with GST</th>\n",
       "      <th>Currency  Code</th>\n",
       "    </tr>\n",
       "  </thead>\n",
       "  <tbody>\n",
       "    <tr>\n",
       "      <th>0</th>\n",
       "      <td>0</td>\n",
       "      <td>3999.0</td>\n",
       "      <td>0</td>\n",
       "    </tr>\n",
       "    <tr>\n",
       "      <th>1</th>\n",
       "      <td>0</td>\n",
       "      <td>999.0</td>\n",
       "      <td>0</td>\n",
       "    </tr>\n",
       "    <tr>\n",
       "      <th>2</th>\n",
       "      <td>0</td>\n",
       "      <td>1999.0</td>\n",
       "      <td>0</td>\n",
       "    </tr>\n",
       "    <tr>\n",
       "      <th>3</th>\n",
       "      <td>0</td>\n",
       "      <td>1999.0</td>\n",
       "      <td>0</td>\n",
       "    </tr>\n",
       "    <tr>\n",
       "      <th>4</th>\n",
       "      <td>0</td>\n",
       "      <td>2022.0</td>\n",
       "      <td>0</td>\n",
       "    </tr>\n",
       "  </tbody>\n",
       "</table>\n",
       "</div>"
      ],
      "text/plain": [
       "   Source  Product Amount with GST  Currency  Code\n",
       "0       0                   3999.0               0\n",
       "1       0                    999.0               0\n",
       "2       0                   1999.0               0\n",
       "3       0                   1999.0               0\n",
       "4       0                   2022.0               0"
      ]
     },
     "execution_count": 24,
     "metadata": {},
     "output_type": "execute_result"
    }
   ],
   "source": [
    "x.head()"
   ]
  },
  {
   "cell_type": "code",
   "execution_count": 25,
   "id": "2d5108a4",
   "metadata": {},
   "outputs": [
    {
     "data": {
      "text/plain": [
       "0    Initiated\n",
       "1    Initiated\n",
       "2    Initiated\n",
       "3    Initiated\n",
       "4    Initiated\n",
       "Name: Payment Status, dtype: object"
      ]
     },
     "execution_count": 25,
     "metadata": {},
     "output_type": "execute_result"
    }
   ],
   "source": [
    "y.head()"
   ]
  },
  {
   "cell_type": "markdown",
   "id": "002fe2a6",
   "metadata": {},
   "source": [
    "# Model Testing"
   ]
  },
  {
   "cell_type": "markdown",
   "id": "ce7393ef",
   "metadata": {},
   "source": [
    "Model testing with SVM\n",
    "classification_Report "
   ]
  },
  {
   "cell_type": "code",
   "execution_count": 27,
   "id": "d377786e",
   "metadata": {},
   "outputs": [
    {
     "name": "stdout",
     "output_type": "stream",
     "text": [
      "              precision    recall  f1-score   support\n",
      "\n",
      "   Initiated       0.79      1.00      0.88      1390\n",
      "        paid       0.00      0.00      0.00       364\n",
      "      refund       0.00      0.00      0.00        12\n",
      "\n",
      "    accuracy                           0.79      1766\n",
      "   macro avg       0.26      0.33      0.29      1766\n",
      "weighted avg       0.62      0.79      0.69      1766\n",
      "\n"
     ]
    }
   ],
   "source": [
    "from sklearn.svm import SVC\n",
    "from sklearn.metrics import classification_report\n",
    "from sklearn.metrics import confusion_matrix\n",
    "from sklearn.metrics import accuracy_score\n",
    "SVM = SVC()\n",
    "SVM.fit(x_train,y_train)\n",
    "predicted_xtest = SVM.predict(x_test)\n",
    "predicted_xtrain = SVM.predict(x_train)\n",
    "print(classification_report(y_test,predicted_xtest))"
   ]
  },
  {
   "cell_type": "code",
   "execution_count": 29,
   "id": "7d817c9d",
   "metadata": {},
   "outputs": [
    {
     "name": "stdout",
     "output_type": "stream",
     "text": [
      "0.7831471588149587\n"
     ]
    }
   ],
   "source": [
    "print(accuracy_score(y_train,predicted_xtrain))"
   ]
  },
  {
   "cell_type": "code",
   "execution_count": 30,
   "id": "4542f9a1",
   "metadata": {},
   "outputs": [
    {
     "name": "stdout",
     "output_type": "stream",
     "text": [
      "0.7870894677236693\n"
     ]
    }
   ],
   "source": [
    "print(accuracy_score(y_test,predicted_xtest))\n"
   ]
  },
  {
   "cell_type": "code",
   "execution_count": 33,
   "id": "82e4591c",
   "metadata": {},
   "outputs": [
    {
     "name": "stdout",
     "output_type": "stream",
     "text": [
      "RandomForestClassifier Accuracy for training the data   0.8003885381253035\n",
      "\n",
      "\n",
      "\n",
      "RandomForestClassifier Accuracy for  testing the data   0.7967157417893544\n"
     ]
    }
   ],
   "source": [
    "from sklearn.ensemble import RandomForestClassifier\n",
    "from sklearn.tree import DecisionTreeClassifier\n",
    "\n",
    "\n",
    "test_acc=0\n",
    "train_acc=0\n",
    "for i in range(10,100):\n",
    "    RTC = RandomForestClassifier(n_estimators = 15,random_state = 2)\n",
    "    RTC.fit(x_train,y_train)\n",
    "    predicted_xtest = RTC.predict(x_test)\n",
    "    predicted_xtrain = RTC.predict(x_train)\n",
    "    if test_acc > accuracy_score(y_test,predicted_xtest):\n",
    "        break\n",
    "    else:\n",
    "        test_acc = accuracy_score(y_test,predicted_xtest)\n",
    "\n",
    "print(f\"RandomForestClassifier Accuracy for training the data   {accuracy_score(y_train,predicted_xtrain)}\")\n",
    "print(\"\\n\\n\")\n",
    "print(f\"RandomForestClassifier Accuracy for  testing the data   {accuracy_score(y_test,predicted_xtest)}\")"
   ]
  },
  {
   "cell_type": "markdown",
   "id": "b35b01e4",
   "metadata": {},
   "source": [
    "# Observation"
   ]
  },
  {
   "cell_type": "code",
   "execution_count": null,
   "id": "2d60e7d3",
   "metadata": {},
   "outputs": [],
   "source": [
    "#Hence I check and see that Random forest classifier gives little better accuracy than SVM and I have Tried Some\n",
    "#ensemble techniques also but no other models give better accuracy \n",
    "\n",
    "RandomForestClassifier Accuracy for training the data   0.8003885381253035\n",
    "\n",
    "RandomForestClassifier Accuracy for  testing the data   0.7967157417893544\n"
   ]
  }
 ],
 "metadata": {
  "kernelspec": {
   "display_name": "Python 3 (ipykernel)",
   "language": "python",
   "name": "python3"
  },
  "language_info": {
   "codemirror_mode": {
    "name": "ipython",
    "version": 3
   },
   "file_extension": ".py",
   "mimetype": "text/x-python",
   "name": "python",
   "nbconvert_exporter": "python",
   "pygments_lexer": "ipython3",
   "version": "3.9.12"
  }
 },
 "nbformat": 4,
 "nbformat_minor": 5
}
